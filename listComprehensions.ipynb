{
  "nbformat": 4,
  "nbformat_minor": 0,
  "metadata": {
    "colab": {
      "provenance": [],
      "authorship_tag": "ABX9TyOGAnsEI5T5wPP7FcdBzTF4",
      "include_colab_link": true
    },
    "kernelspec": {
      "name": "python3",
      "display_name": "Python 3"
    },
    "language_info": {
      "name": "python"
    }
  },
  "cells": [
    {
      "cell_type": "markdown",
      "metadata": {
        "id": "view-in-github",
        "colab_type": "text"
      },
      "source": [
        "<a href=\"https://colab.research.google.com/github/anandakh/python/blob/main/listComprehensions.ipynb\" target=\"_parent\"><img src=\"https://colab.research.google.com/assets/colab-badge.svg\" alt=\"Open In Colab\"/></a>"
      ]
    },
    {
      "cell_type": "code",
      "execution_count": 1,
      "metadata": {
        "colab": {
          "base_uri": "https://localhost:8080/"
        },
        "id": "wo2t9N1LG1KB",
        "outputId": "889e9cf3-2c1b-47d8-a345-da896127a38f"
      },
      "outputs": [
        {
          "output_type": "stream",
          "name": "stdout",
          "text": [
            "Positive number in the list:  45 93\n"
          ]
        }
      ],
      "source": [
        "\n",
        "#python program to print positive numbers  in a list\n",
        "\n",
        "#list of numbers\n",
        "list1=[-10, -21, -4, 45, -66, 93]\n",
        "\n",
        "# using list comprihension\n",
        "pos_nos = [num for num in list1 if num>=0]\n",
        "print(\"Positive number in the list: \", *pos_nos)"
      ]
    },
    {
      "cell_type": "code",
      "source": [
        "#Square of N numbers\n",
        "numbers = [1,2,3,4,5]\n",
        "squared_numbers=[number**2 for number in numbers]\n",
        "print(squared_numbers)"
      ],
      "metadata": {
        "colab": {
          "base_uri": "https://localhost:8080/"
        },
        "id": "VD74G_1BHB6A",
        "outputId": "530a261e-cf92-4ae1-94bd-ab7146de8757"
      },
      "execution_count": 2,
      "outputs": [
        {
          "output_type": "stream",
          "name": "stdout",
          "text": [
            "[1, 4, 9, 16, 25]\n"
          ]
        }
      ]
    },
    {
      "cell_type": "code",
      "source": [
        "#python3 code to demonstrate working of vowel indices in string\n",
        "#using list comprihension + enumerate()\n",
        "\n",
        "#initializing string \n",
        "test_str = \"geeksforgeeks\"\n",
        "\n",
        "#printing orginal string \n",
        "print(\"The orginal string is: \" +test_str )\n",
        "\n",
        "#vowel indices in string\n",
        "#using list comprehension +enumirate()\n",
        "res=[idx for idx, ele in enumerate(test_str) if ele in \"aeiou\"]\n",
        "\n",
        "#printing result\n",
        "print(\"The vowel indices are: \" +str(res))\n"
      ],
      "metadata": {
        "colab": {
          "base_uri": "https://localhost:8080/"
        },
        "id": "5APj4Ur5HRAX",
        "outputId": "1e1f3835-f2bd-45a7-c6a6-18f479820c38"
      },
      "execution_count": 3,
      "outputs": [
        {
          "output_type": "stream",
          "name": "stdout",
          "text": [
            "The orginal string is: geeksforgeeks\n",
            "The vowel indices are: [1, 2, 6, 9, 10]\n"
          ]
        }
      ]
    },
    {
      "cell_type": "code",
      "source": [
        "#List ordinal value of each element of a word\n",
        "word =input(\"Enter a word: \")\n",
        "h_letters = [ letter for letter in word ]\n",
        "for a in h_letters:\n",
        "  print(\"Ordinal value of \", a,\" is : \",ord(a))\n"
      ],
      "metadata": {
        "colab": {
          "base_uri": "https://localhost:8080/"
        },
        "id": "LgK31BQXHgcH",
        "outputId": "77d42783-db33-46a9-91b3-a817f84516b0"
      },
      "execution_count": 4,
      "outputs": [
        {
          "output_type": "stream",
          "name": "stdout",
          "text": [
            "Enter a word: apple\n",
            "Ordinal value of  a  is :  97\n",
            "Ordinal value of  p  is :  112\n",
            "Ordinal value of  p  is :  112\n",
            "Ordinal value of  l  is :  108\n",
            "Ordinal value of  e  is :  101\n"
          ]
        }
      ]
    }
  ]
}