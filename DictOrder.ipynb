{
  "nbformat": 4,
  "nbformat_minor": 0,
  "metadata": {
    "colab": {
      "provenance": [],
      "authorship_tag": "ABX9TyMBvo0vD2naYqhwIOF0/nXf",
      "include_colab_link": true
    },
    "kernelspec": {
      "name": "python3",
      "display_name": "Python 3"
    },
    "language_info": {
      "name": "python"
    }
  },
  "cells": [
    {
      "cell_type": "markdown",
      "metadata": {
        "id": "view-in-github",
        "colab_type": "text"
      },
      "source": [
        "<a href=\"https://colab.research.google.com/github/anandakh/python/blob/main/DictOrder.ipynb\" target=\"_parent\"><img src=\"https://colab.research.google.com/assets/colab-badge.svg\" alt=\"Open In Colab\"/></a>"
      ]
    },
    {
      "cell_type": "code",
      "execution_count": 1,
      "metadata": {
        "colab": {
          "base_uri": "https://localhost:8080/"
        },
        "id": "BALPjWQJVUcP",
        "outputId": "a42d4143-69b4-46df-a138-4ff49ec439c9"
      },
      "outputs": [
        {
          "output_type": "stream",
          "name": "stdout",
          "text": [
            "ascending order [('Alex', 2), ('Benny', 32), ('Danny', 3), ('John', 40)]\n",
            "Decending order [('John', 40), ('Danny', 3), ('Benny', 32), ('Alex', 2)]\n"
          ]
        }
      ],
      "source": [
        "y={'John':40,'Alex':2, 'Benny':32, 'Danny':3}\n",
        "l=list(y.items())\n",
        "l.sort()\n",
        "print('ascending order',l)\n",
        "l=list(y.items())\n",
        "l.sort(reverse=True)\n",
        "print('Decending order',l)"
      ]
    }
  ]
}