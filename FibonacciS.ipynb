{
  "nbformat": 4,
  "nbformat_minor": 0,
  "metadata": {
    "colab": {
      "provenance": [],
      "authorship_tag": "ABX9TyPrJN4rRTvGIcjaTM69/b4R",
      "include_colab_link": true
    },
    "kernelspec": {
      "name": "python3",
      "display_name": "Python 3"
    },
    "language_info": {
      "name": "python"
    }
  },
  "cells": [
    {
      "cell_type": "markdown",
      "metadata": {
        "id": "view-in-github",
        "colab_type": "text"
      },
      "source": [
        "<a href=\"https://colab.research.google.com/github/anandakh/python/blob/main/FibonacciS.ipynb\" target=\"_parent\"><img src=\"https://colab.research.google.com/assets/colab-badge.svg\" alt=\"Open In Colab\"/></a>"
      ]
    },
    {
      "cell_type": "code",
      "execution_count": null,
      "metadata": {
        "id": "s5CDOetn34NM",
        "colab": {
          "base_uri": "https://localhost:8080/"
        },
        "outputId": "eb4d753a-b501-4936-c65f-b2746c44287b"
      },
      "outputs": [
        {
          "output_type": "stream",
          "name": "stdout",
          "text": [
            "Enter the value of 'n': 5\n",
            "Fibonacci series:  0 1 1 2 3 "
          ]
        }
      ],
      "source": [
        "#Python program to generate Fibonacci series until 'n' value\n",
        "n=int(input(\"Enter the value of 'n': \"))\n",
        "a=0\n",
        "b=1\n",
        "sum=0\n",
        "count=1\n",
        "print(\"Fibonacci series: \",end=\" \")\n",
        "while(count<=n):\n",
        "    print(sum,end=\" \")\n",
        "    count+=1\n",
        "    a=b\n",
        "    b=sum\n",
        "    sum=a+b"
      ]
    }
  ]
}