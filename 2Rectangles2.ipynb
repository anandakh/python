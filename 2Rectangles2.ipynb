{
  "nbformat": 4,
  "nbformat_minor": 0,
  "metadata": {
    "colab": {
      "provenance": [],
      "authorship_tag": "ABX9TyPV4KIkEd5W1P6XrwV9F4Tq",
      "include_colab_link": true
    },
    "kernelspec": {
      "name": "python3",
      "display_name": "Python 3"
    },
    "language_info": {
      "name": "python"
    }
  },
  "cells": [
    {
      "cell_type": "markdown",
      "metadata": {
        "id": "view-in-github",
        "colab_type": "text"
      },
      "source": [
        "<a href=\"https://colab.research.google.com/github/anandakh/python/blob/main/2Rectangles2.ipynb\" target=\"_parent\"><img src=\"https://colab.research.google.com/assets/colab-badge.svg\" alt=\"Open In Colab\"/></a>"
      ]
    },
    {
      "cell_type": "code",
      "execution_count": null,
      "metadata": {
        "colab": {
          "base_uri": "https://localhost:8080/"
        },
        "id": "OZlOQhchVf3B",
        "outputId": "e511e849-d3cc-4443-aad8-d149d928b8a7"
      },
      "outputs": [
        {
          "output_type": "stream",
          "name": "stdout",
          "text": [
            "enter Length of Rectangle 1 = 3\n",
            "enter Width of Rectangle 1 = 2\n",
            "enter Length of Rectangle 2 = 6\n",
            "enter Width of Rectangle 2 = 5\n",
            "Area is  6\n",
            "Area is  30\n",
            "Rectangle two is large\n"
          ]
        }
      ],
      "source": [
        "class rectangle:\n",
        "    area = 0\n",
        "    def __init__(self,a,b):\n",
        "        self.a = a\n",
        "        self.b = b\n",
        "    def calc_area(self):\n",
        "        self.area = self.a*self.b\n",
        "        print(\"Area is \",self.area)\n",
        "    def __lt__(self,second):\n",
        "        if self.area < second.area:\n",
        "            return True\n",
        "        else:\n",
        "            return False\n",
        "length1 = int(input(\"enter Length of Rectangle 1 = \"))\n",
        "width1 = int(input(\"enter Width of Rectangle 1 = \"))\n",
        "length2 = int(input(\"enter Length of Rectangle 2 = \"))\n",
        "width2 = int(input(\"enter Width of Rectangle 2 = \"))\n",
        "\n",
        "obj1 = rectangle(length1,width1)\n",
        "obj2 = rectangle(length2,width2)\n",
        "obj1.calc_area()\n",
        "obj2.calc_area()\n",
        "if obj1<obj2:\n",
        "    print(\"Rectangle two is large\")\n",
        "else:\n",
        "    print(\"Rectangle one is large or both are same\")"
      ]
    }
  ]
}