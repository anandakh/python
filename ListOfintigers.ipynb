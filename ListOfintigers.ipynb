{
  "nbformat": 4,
  "nbformat_minor": 0,
  "metadata": {
    "colab": {
      "provenance": [],
      "authorship_tag": "ABX9TyPbzlz+EcEjzAkJv4t9VDCR",
      "include_colab_link": true
    },
    "kernelspec": {
      "name": "python3",
      "display_name": "Python 3"
    },
    "language_info": {
      "name": "python"
    }
  },
  "cells": [
    {
      "cell_type": "markdown",
      "metadata": {
        "id": "view-in-github",
        "colab_type": "text"
      },
      "source": [
        "<a href=\"https://colab.research.google.com/github/anandakh/python/blob/main/ListOfintigers.ipynb\" target=\"_parent\"><img src=\"https://colab.research.google.com/assets/colab-badge.svg\" alt=\"Open In Colab\"/></a>"
      ]
    },
    {
      "cell_type": "code",
      "execution_count": 1,
      "metadata": {
        "colab": {
          "base_uri": "https://localhost:8080/"
        },
        "id": "iGY9m8ERFh25",
        "outputId": "0f16ab9e-cb7b-4c87-fa47-777fa174d70d"
      },
      "outputs": [
        {
          "output_type": "stream",
          "name": "stdout",
          "text": [
            "Enter a Limit3\n",
            "Enter an integer : 5\n",
            "Enter an integer : 9\n",
            "Enter an integer : 8\n",
            "List is:  [5, 9, 8]\n"
          ]
        }
      ],
      "source": [
        "list1 = []\n",
        "n=int(input(\"Enter a Limit\"))\n",
        "i=0\n",
        "while i<n:\n",
        "  i=i+1\n",
        "  inp = int(input(\"Enter an integer : \"))\n",
        "  if(inp < 100):\n",
        "    list1.append(inp)\n",
        "  else:\n",
        "    list1.append(\"Over\")\n",
        "print(\"List is: \",list1)"
      ]
    }
  ]
}