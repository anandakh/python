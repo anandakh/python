{
  "nbformat": 4,
  "nbformat_minor": 0,
  "metadata": {
    "colab": {
      "provenance": [],
      "authorship_tag": "ABX9TyNKKJNoQ5i73vjXJUNCgKMW",
      "include_colab_link": true
    },
    "kernelspec": {
      "name": "python3",
      "display_name": "Python 3"
    },
    "language_info": {
      "name": "python"
    }
  },
  "cells": [
    {
      "cell_type": "markdown",
      "metadata": {
        "id": "view-in-github",
        "colab_type": "text"
      },
      "source": [
        "<a href=\"https://colab.research.google.com/github/anandakh/python/blob/main/factorsOf_N.ipynb\" target=\"_parent\"><img src=\"https://colab.research.google.com/assets/colab-badge.svg\" alt=\"Open In Colab\"/></a>"
      ]
    },
    {
      "cell_type": "code",
      "execution_count": 4,
      "metadata": {
        "colab": {
          "base_uri": "https://localhost:8080/"
        },
        "id": "psuRO6nbu5Ye",
        "outputId": "af13004a-b64d-456b-c65f-113c118995a4"
      },
      "outputs": [
        {
          "output_type": "stream",
          "name": "stdout",
          "text": [
            "Enter a number10\n",
            "The factors of 10 are:\n",
            "1\n",
            "2\n",
            "5\n",
            "10\n"
          ]
        }
      ],
      "source": [
        "def print_factors(x):\n",
        "  print(\"The factors of\",x,\"are:\")\n",
        "  for i in range(1, x + 1):\n",
        "    if x % i == 0:\n",
        "      print(i)\n",
        "num=int(input('Enter a number'))\n",
        "print_factors(num)\n"
      ]
    }
  ]
}