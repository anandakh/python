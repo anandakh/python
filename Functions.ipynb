{
  "nbformat": 4,
  "nbformat_minor": 0,
  "metadata": {
    "colab": {
      "provenance": [],
      "authorship_tag": "ABX9TyOn8VhD13doqkI5qcn3TvBx",
      "include_colab_link": true
    },
    "kernelspec": {
      "name": "python3",
      "display_name": "Python 3"
    },
    "language_info": {
      "name": "python"
    }
  },
  "cells": [
    {
      "cell_type": "markdown",
      "metadata": {
        "id": "view-in-github",
        "colab_type": "text"
      },
      "source": [
        "<a href=\"https://colab.research.google.com/github/anandakh/python/blob/main/Functions.ipynb\" target=\"_parent\"><img src=\"https://colab.research.google.com/assets/colab-badge.svg\" alt=\"Open In Colab\"/></a>"
      ]
    },
    {
      "cell_type": "code",
      "execution_count": null,
      "metadata": {
        "colab": {
          "base_uri": "https://localhost:8080/"
        },
        "id": "J2WqsqXX2PwE",
        "outputId": "46098b0a-3b6e-4755-b649-2a7acf914715"
      },
      "outputs": [
        {
          "output_type": "stream",
          "name": "stdout",
          "text": [
            "enter 1 no3\n",
            "Enter 2 no2\n",
            "Result 5\n"
          ]
        }
      ],
      "source": [
        "#no input parameters, no return statement\n",
        "def sum():\n",
        "  a=int(input('enter 1 no'))\n",
        "  b=int(input('Enter 2 no'))\n",
        "  c=a+b\n",
        "  print('Result',c)\n",
        "sum()\n",
        "\n"
      ]
    },
    {
      "cell_type": "code",
      "source": [
        "#with input parameters, no return statement\n",
        "def sum(a,b):\n",
        "  c=a+b\n",
        "  print(\"result:\",c)\n",
        "a=int(input('Enter 1 no:'))\n",
        "b=int(input('Enter 2 no'))\n",
        "sum(a,b)"
      ],
      "metadata": {
        "colab": {
          "base_uri": "https://localhost:8080/"
        },
        "id": "0ZYxCprzKTZb",
        "outputId": "9fe1330e-c78c-482f-ad63-a28b6ac0aeff"
      },
      "execution_count": null,
      "outputs": [
        {
          "output_type": "stream",
          "name": "stdout",
          "text": [
            "Enter 1 no:2\n",
            "Enter 2 no3\n",
            "result: 5\n"
          ]
        }
      ]
    },
    {
      "cell_type": "code",
      "source": [
        "#no input parameters, with return statement\n",
        "def sum():\n",
        "  a=int(input('Enter 1 no:'))\n",
        "  b=int(input('Enter 2 no'))\n",
        "  c=a+b\n",
        "  return c\n",
        "result=sum()\n",
        "print('Result:',result)"
      ],
      "metadata": {
        "colab": {
          "base_uri": "https://localhost:8080/"
        },
        "id": "Pegb8ikgLeXs",
        "outputId": "64726e87-26cc-4a63-cdb5-84b526bf39d3"
      },
      "execution_count": null,
      "outputs": [
        {
          "output_type": "stream",
          "name": "stdout",
          "text": [
            "Enter 1 no:2\n",
            "Enter 2 no3\n",
            "Result: 5\n"
          ]
        }
      ]
    },
    {
      "cell_type": "code",
      "source": [
        "#with input parameters and return statements\n",
        "def sum(a,b):\n",
        "  c=a+b\n",
        "  return c\n",
        "a=int(input('Enter 1 no:'))\n",
        "b=int(input('Enter 2 no'))\n",
        "result=sum(a,b)\n",
        "print('Result:',result)\n"
      ],
      "metadata": {
        "colab": {
          "base_uri": "https://localhost:8080/"
        },
        "id": "xm5P8X65MPtG",
        "outputId": "912c6570-5915-4e97-b3b6-b5ce77a4baad"
      },
      "execution_count": null,
      "outputs": [
        {
          "output_type": "stream",
          "name": "stdout",
          "text": [
            "Enter 1 no:2\n",
            "Enter 2 no3\n",
            "Result: 5\n"
          ]
        }
      ]
    }
  ]
}