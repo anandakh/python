{
  "nbformat": 4,
  "nbformat_minor": 0,
  "metadata": {
    "colab": {
      "provenance": [],
      "authorship_tag": "ABX9TyNpcSLf858f4Au6ZUwN0QM4",
      "include_colab_link": true
    },
    "kernelspec": {
      "name": "python3",
      "display_name": "Python 3"
    },
    "language_info": {
      "name": "python"
    }
  },
  "cells": [
    {
      "cell_type": "markdown",
      "metadata": {
        "id": "view-in-github",
        "colab_type": "text"
      },
      "source": [
        "<a href=\"https://colab.research.google.com/github/anandakh/python/blob/main/removing_even_numbers_.ipynb\" target=\"_parent\"><img src=\"https://colab.research.google.com/assets/colab-badge.svg\" alt=\"Open In Colab\"/></a>"
      ]
    },
    {
      "cell_type": "code",
      "execution_count": 1,
      "metadata": {
        "colab": {
          "base_uri": "https://localhost:8080/"
        },
        "id": "mUKc_X0XJAGe",
        "outputId": "e4a7775f-d02b-4740-ba94-989b247bf047"
      },
      "outputs": [
        {
          "output_type": "stream",
          "name": "stdout",
          "text": [
            "Enter the size of list:3\n",
            "Enter elements\n",
            "6\n",
            "5\n",
            "4\n",
            "list elements are: [6, 5, 4]\n",
            "Odd numbers in the list are \n",
            "5\n"
          ]
        }
      ],
      "source": [
        "list1=[]\n",
        "list2=[]\n",
        "size=int(input(\"Enter the size of list:\"))\n",
        "print(\"Enter elements\")\n",
        "for i in range(0,size):\n",
        "    a=int(input( ))\n",
        "    list1.append(a)\n",
        "print(\"list elements are:\",list1)\n",
        "print(\"Odd numbers in the list are \")\n",
        "for a in list1:\n",
        "    if a % 2 != 0 :\n",
        "        print(a)"
      ]
    }
  ]
}