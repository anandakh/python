{
  "nbformat": 4,
  "nbformat_minor": 0,
  "metadata": {
    "colab": {
      "provenance": [],
      "authorship_tag": "ABX9TyOrDAQWwrAh/9UWLMFCqbxB",
      "include_colab_link": true
    },
    "kernelspec": {
      "name": "python3",
      "display_name": "Python 3"
    },
    "language_info": {
      "name": "python"
    }
  },
  "cells": [
    {
      "cell_type": "markdown",
      "metadata": {
        "id": "view-in-github",
        "colab_type": "text"
      },
      "source": [
        "<a href=\"https://colab.research.google.com/github/anandakh/python/blob/main/noPyramid.ipynb\" target=\"_parent\"><img src=\"https://colab.research.google.com/assets/colab-badge.svg\" alt=\"Open In Colab\"/></a>"
      ]
    },
    {
      "cell_type": "code",
      "execution_count": null,
      "metadata": {
        "id": "mA9IusHC7dQe",
        "colab": {
          "base_uri": "https://localhost:8080/"
        },
        "outputId": "c12c05e1-07bc-4c47-86e3-7f7d4f17927e"
      },
      "outputs": [
        {
          "output_type": "stream",
          "name": "stdout",
          "text": [
            "Enter the number of rows:4\n",
            "1 \n",
            "2 4 \n",
            "3 6 9 \n",
            "4 8 12 16 \n"
          ]
        }
      ],
      "source": [
        "rows=int(input(\"Enter the number of rows:\"))\n",
        "for i in range(1,rows+1):\n",
        "    for j in range(1,i+1):\n",
        "        print(i*j,end=' ')\n",
        "    print()"
      ]
    }
  ]
}