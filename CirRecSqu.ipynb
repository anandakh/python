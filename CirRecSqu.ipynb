{
  "nbformat": 4,
  "nbformat_minor": 0,
  "metadata": {
    "colab": {
      "provenance": [],
      "authorship_tag": "ABX9TyMo4uHAR8nmHyoQPkv6qeAZ",
      "include_colab_link": true
    },
    "kernelspec": {
      "name": "python3",
      "display_name": "Python 3"
    },
    "language_info": {
      "name": "python"
    }
  },
  "cells": [
    {
      "cell_type": "markdown",
      "metadata": {
        "id": "view-in-github",
        "colab_type": "text"
      },
      "source": [
        "<a href=\"https://colab.research.google.com/github/anandakh/python/blob/main/CirRecSqu.ipynb\" target=\"_parent\"><img src=\"https://colab.research.google.com/assets/colab-badge.svg\" alt=\"Open In Colab\"/></a>"
      ]
    },
    {
      "cell_type": "code",
      "execution_count": 1,
      "metadata": {
        "colab": {
          "base_uri": "https://localhost:8080/"
        },
        "id": "32O4joI8b2yX",
        "outputId": "8021fe52-50c2-49d7-a247-1a4056fce12f"
      },
      "outputs": [
        {
          "name": "stdout",
          "output_type": "stream",
          "text": [
            "1. for area of circle\n",
            "2. for area of rectangle\n",
            "3. for circumference of circle\n",
            "4. for area of square\n",
            "enter your choice (enter 0 to exit):1\n",
            "enter the radius of the circle:5\n",
            "area of circle: 78.5\n",
            "1. for area of circle\n",
            "2. for area of rectangle\n",
            "3. for circumference of circle\n",
            "4. for area of square\n",
            "enter your choice (enter 0 to exit):2\n",
            "enter the length:5\n",
            "enter the breadth:6\n",
            "area of rectangle: 30\n",
            "1. for area of circle\n",
            "2. for area of rectangle\n",
            "3. for circumference of circle\n",
            "4. for area of square\n",
            "enter your choice (enter 0 to exit):3\n",
            "enter the radius of the circle:4\n",
            "circumference of circle: 24\n",
            "1. for area of circle\n",
            "2. for area of rectangle\n",
            "3. for circumference of circle\n",
            "4. for area of square\n",
            "enter your choice (enter 0 to exit):4\n",
            "enter the side of square:6\n",
            "area of square: 36\n",
            "1. for area of circle\n",
            "2. for area of rectangle\n",
            "3. for circumference of circle\n",
            "4. for area of square\n",
            "enter your choice (enter 0 to exit):0\n"
          ]
        }
      ],
      "source": [
        "while True:\n",
        "  print(\"1. for area of circle\")\n",
        "  print(\"2. for area of rectangle\")\n",
        "  print(\"3. for circumference of circle\")\n",
        "  print(\"4. for area of square\")\n",
        "  ch=int(input(\"enter your choice (enter 0 to exit):\"))\n",
        "  if ch==1:\n",
        "      r=int(input(\"enter the radius of the circle:\"))\n",
        "      a=3.14*r*r\n",
        "      print(\"area of circle:\",a)\n",
        "  elif ch==2:\n",
        "      l=int(input(\"enter the length:\"))\n",
        "      b=int(input(\"enter the breadth:\"))\n",
        "      a=l*b\n",
        "      print(\"area of rectangle:\",a)\n",
        "  elif ch==3:\n",
        "      r=int(input(\"enter the radius of the circle:\"))\n",
        "      c=2*(int(3.14*r))\n",
        "      print (\"circumference of circle:\",c)\n",
        "  elif ch==4:\n",
        "      l=int(input(\"enter the side of square:\"))\n",
        "      a=l*l\n",
        "      print(\"area of square:\",a)\n",
        "  elif ch==0:\n",
        "    break         \n",
        "  else:\n",
        "     print(\"invalid option\")"
      ]
    }
  ]
}