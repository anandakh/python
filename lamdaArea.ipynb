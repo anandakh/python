{
  "nbformat": 4,
  "nbformat_minor": 0,
  "metadata": {
    "colab": {
      "provenance": [],
      "authorship_tag": "ABX9TyPRtfRbKYjtrQ/vMTli6Ser",
      "include_colab_link": true
    },
    "kernelspec": {
      "name": "python3",
      "display_name": "Python 3"
    },
    "language_info": {
      "name": "python"
    }
  },
  "cells": [
    {
      "cell_type": "markdown",
      "metadata": {
        "id": "view-in-github",
        "colab_type": "text"
      },
      "source": [
        "<a href=\"https://colab.research.google.com/github/anandakh/python/blob/main/lamdaArea.ipynb\" target=\"_parent\"><img src=\"https://colab.research.google.com/assets/colab-badge.svg\" alt=\"Open In Colab\"/></a>"
      ]
    },
    {
      "cell_type": "code",
      "execution_count": 1,
      "metadata": {
        "colab": {
          "base_uri": "https://localhost:8080/"
        },
        "id": "XxJ0CKtQz0GC",
        "outputId": "851cf557-9388-4b9b-945c-96ab600e2c71"
      },
      "outputs": [
        {
          "output_type": "stream",
          "name": "stdout",
          "text": [
            "Area of Square (30) is: 900\n",
            "Area of Rectangle (30,20) is: 600\n",
            "Area of Triangle (30,20) is: 300.0\n"
          ]
        }
      ],
      "source": [
        "import math\n",
        "s_area = lambda len: len*len\n",
        "r_area = lambda len, ht : len*ht\n",
        "t_area = lambda len, ht : .5*len*ht\n",
        "print(\"Area of Square (30) is:\", s_area(30))\n",
        "print(\"Area of Rectangle (30,20) is:\", r_area(30,20))\n",
        "print(\"Area of Triangle (30,20) is:\", t_area(30,20))\n"
      ]
    }
  ]
}