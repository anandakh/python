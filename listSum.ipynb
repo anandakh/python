{
  "nbformat": 4,
  "nbformat_minor": 0,
  "metadata": {
    "colab": {
      "provenance": [],
      "authorship_tag": "ABX9TyONuLdrDQulQKRq9DFX9VGp",
      "include_colab_link": true
    },
    "kernelspec": {
      "name": "python3",
      "display_name": "Python 3"
    },
    "language_info": {
      "name": "python"
    }
  },
  "cells": [
    {
      "cell_type": "markdown",
      "metadata": {
        "id": "view-in-github",
        "colab_type": "text"
      },
      "source": [
        "<a href=\"https://colab.research.google.com/github/anandakh/python/blob/main/listSum.ipynb\" target=\"_parent\"><img src=\"https://colab.research.google.com/assets/colab-badge.svg\" alt=\"Open In Colab\"/></a>"
      ]
    },
    {
      "cell_type": "code",
      "execution_count": null,
      "metadata": {
        "id": "tlZSh6125iYI",
        "colab": {
          "base_uri": "https://localhost:8080/"
        },
        "outputId": "6b6bb598-1a62-4684-99b3-a4ad53f6ab9d"
      },
      "outputs": [
        {
          "output_type": "stream",
          "name": "stdout",
          "text": [
            "How many numbers: 3\n",
            "Enter number2\n",
            "Enter number3\n",
            "Enter number1\n",
            "sum of elements in given list is: 6\n"
          ]
        }
      ],
      "source": [
        "lst=[]\n",
        "num=int(input(\"How many numbers: \"))\n",
        "for n in range(num):\n",
        "    numbers=int(input(\"Enter number\"))\n",
        "    lst.append(numbers)\n",
        "print(\"sum of elements in given list is:\",sum(lst))"
      ]
    }
  ]
}