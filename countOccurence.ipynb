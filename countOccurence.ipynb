{
  "nbformat": 4,
  "nbformat_minor": 0,
  "metadata": {
    "colab": {
      "provenance": [],
      "authorship_tag": "ABX9TyOBo+8xZpT2cxhthAaIQoDL",
      "include_colab_link": true
    },
    "kernelspec": {
      "name": "python3",
      "display_name": "Python 3"
    },
    "language_info": {
      "name": "python"
    }
  },
  "cells": [
    {
      "cell_type": "markdown",
      "metadata": {
        "id": "view-in-github",
        "colab_type": "text"
      },
      "source": [
        "<a href=\"https://colab.research.google.com/github/anandakh/python/blob/main/countOccurence.ipynb\" target=\"_parent\"><img src=\"https://colab.research.google.com/assets/colab-badge.svg\" alt=\"Open In Colab\"/></a>"
      ]
    },
    {
      "cell_type": "code",
      "execution_count": 1,
      "metadata": {
        "colab": {
          "base_uri": "https://localhost:8080/"
        },
        "id": "asXLYF2jDKjK",
        "outputId": "54f93747-691c-460c-a2c1-1437a6a22606"
      },
      "outputs": [
        {
          "output_type": "stream",
          "name": "stdout",
          "text": [
            "1\n"
          ]
        }
      ],
      "source": [
        "def countOccurences(str, word):\n",
        "  #split the string by spaces in a \n",
        "  a= str.split(\" \")\n",
        "\n",
        "  #search for pattern in a\n",
        "  count=0\n",
        "  for i in range(0, len(a)):\n",
        "\n",
        "    #if match fount increase count\n",
        "    if(word==a[i]):\n",
        "      count=count+1\n",
        "  return count\n",
        "\n",
        "#Driver code\n",
        "str=\"GeeksforGeeks a computer science portel for geeks\"\n",
        "word=\"portel\"\n",
        "print(countOccurences(str, word))"
      ]
    }
  ]
}