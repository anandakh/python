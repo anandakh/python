{
  "nbformat": 4,
  "nbformat_minor": 0,
  "metadata": {
    "colab": {
      "provenance": [],
      "authorship_tag": "ABX9TyPZUcr2bQvYs4FYRZals+up",
      "include_colab_link": true
    },
    "kernelspec": {
      "name": "python3",
      "display_name": "Python 3"
    },
    "language_info": {
      "name": "python"
    }
  },
  "cells": [
    {
      "cell_type": "markdown",
      "metadata": {
        "id": "view-in-github",
        "colab_type": "text"
      },
      "source": [
        "<a href=\"https://colab.research.google.com/github/anandakh/python/blob/main/noOfCharacters.ipynb\" target=\"_parent\"><img src=\"https://colab.research.google.com/assets/colab-badge.svg\" alt=\"Open In Colab\"/></a>"
      ]
    },
    {
      "cell_type": "code",
      "execution_count": 4,
      "metadata": {
        "colab": {
          "base_uri": "https://localhost:8080/"
        },
        "id": "BqtbNUWbxROJ",
        "outputId": "ba6385ca-b74b-499f-e765-8e22766f9ccd"
      },
      "outputs": [
        {
          "output_type": "stream",
          "name": "stdout",
          "text": [
            "Enter a string:avengers\n",
            "{'a': 1, 'v': 1, 'e': 2, 'n': 1, 'g': 1, 'r': 1, 's': 1}\n"
          ]
        }
      ],
      "source": [
        "#Count the number of characters (character frequency) in a string.\n",
        "def char_frequency(str1):\n",
        "  dict = {}\n",
        "  for n in str1:\n",
        "    keys = dict.keys()\n",
        "    if n in keys:\n",
        "      dict[n] += 1\n",
        "    else:\n",
        "      dict[n] = 1\n",
        "  return dict\n",
        "string_value=input(\"Enter a string:\")\n",
        "print(char_frequency(string_value))"
      ]
    }
  ]
}