{
  "nbformat": 4,
  "nbformat_minor": 0,
  "metadata": {
    "colab": {
      "provenance": [],
      "authorship_tag": "ABX9TyOZx45wmn/O0EsLDwTOtr0s",
      "include_colab_link": true
    },
    "kernelspec": {
      "name": "python3",
      "display_name": "Python 3"
    },
    "language_info": {
      "name": "python"
    }
  },
  "cells": [
    {
      "cell_type": "markdown",
      "metadata": {
        "id": "view-in-github",
        "colab_type": "text"
      },
      "source": [
        "<a href=\"https://colab.research.google.com/github/anandakh/python/blob/main/BankAccount.ipynb\" target=\"_parent\"><img src=\"https://colab.research.google.com/assets/colab-badge.svg\" alt=\"Open In Colab\"/></a>"
      ]
    },
    {
      "cell_type": "code",
      "execution_count": null,
      "metadata": {
        "colab": {
          "base_uri": "https://localhost:8080/"
        },
        "id": "ro7QCsskTsbD",
        "outputId": "c6a337ff-53a8-4819-cb50-1fdb076f8630"
      },
      "outputs": [
        {
          "name": "stdout",
          "output_type": "stream",
          "text": [
            "enter account number45\n",
            "enter nameananthu\n",
            "choose account type:\n",
            "1.current \n",
            "2.savings2\n",
            "name: ananthu \t]t account no: 45 \t\t balance: 0 \t\t acc: savings\n",
            "\n",
            "1.deposit \n",
            "2.withdraw \n",
            "3.exit1\n",
            "enter amountto be deposited:100\n",
            "name: ananthu \t]t account no: 45 \t\t balance: 100.0 \t\t acc: savings\n",
            "\n",
            "1.deposit \n",
            "2.withdraw \n",
            "3.exit2\n",
            "enter amount to be withdraw99\n",
            "name: ananthu \t]t account no: 45 \t\t balance: 1.0 \t\t acc: savings\n",
            "\n",
            "1.deposit \n",
            "2.withdraw \n",
            "3.exit2\n",
            "enter amount to be withdraw2\n",
            "insufficient balance\n",
            "name: ananthu \t]t account no: 45 \t\t balance: 1.0 \t\t acc: savings\n",
            "\n",
            "1.deposit \n",
            "2.withdraw \n",
            "3.exit3\n"
          ]
        }
      ],
      "source": [
        "#CO4 BANK ACCOUNT WITHDRAW\n",
        "class Account:\n",
        "    def __init__(self,acc,name,type):\n",
        "        self.balance = 0\n",
        "        self.acc = acc\n",
        "        self.name = name\n",
        "       \n",
        "        if(type == 1):\n",
        "            self.type = \"current\"\n",
        "        else:\n",
        "            self.type = \"savings\"\n",
        "           \n",
        "    def deposit(self):\n",
        "        amount = float(input(\"enter amountto be deposited:\"));\n",
        "        self.balance += amount\n",
        "       \n",
        "    def withdraw(self):\n",
        "        amount = float(input(\"enter amount to be withdraw\"))\n",
        "        if(self.balance < amount):\n",
        "            print(\"insufficient balance\")\n",
        "        else:\n",
        "            self.balance -= amount\n",
        "           \n",
        "    def display(self):\n",
        "        print(\"name:\",self.name,\"\\t]t account no:\",self.acc,\"\\t\\t balance:\",self.balance,\"\\t\\t acc:\",self.type)\n",
        "       \n",
        "acc = input(\"enter account number\")\n",
        "name = input(\"enter name\")\n",
        "type = input(\"choose account type:\\n1.current \\n2.savings\")\n",
        "obj = Account(acc,name,type)\n",
        "while True:\n",
        "    obj.display()\n",
        "    ch = int(input(\"\\n1.deposit \\n2.withdraw \\n3.exit\"))\n",
        "    if (ch == 1):\n",
        "        obj.deposit()\n",
        "    elif (ch == 2):\n",
        "        obj.withdraw()\n",
        "    elif(ch == 3):\n",
        "        break\n",
        "    else:\n",
        "        print(\"invalid entry\")"
      ]
    }
  ]
}