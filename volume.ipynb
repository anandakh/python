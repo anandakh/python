{
  "nbformat": 4,
  "nbformat_minor": 0,
  "metadata": {
    "colab": {
      "provenance": [],
      "authorship_tag": "ABX9TyO2F1/GdNaVAl/nc17YNN/V",
      "include_colab_link": true
    },
    "kernelspec": {
      "name": "python3",
      "display_name": "Python 3"
    },
    "language_info": {
      "name": "python"
    }
  },
  "cells": [
    {
      "cell_type": "markdown",
      "metadata": {
        "id": "view-in-github",
        "colab_type": "text"
      },
      "source": [
        "<a href=\"https://colab.research.google.com/github/anandakh/python/blob/main/volume.ipynb\" target=\"_parent\"><img src=\"https://colab.research.google.com/assets/colab-badge.svg\" alt=\"Open In Colab\"/></a>"
      ]
    },
    {
      "cell_type": "code",
      "execution_count": null,
      "metadata": {
        "colab": {
          "base_uri": "https://localhost:8080/"
        },
        "id": "dTliyTyWDJVA",
        "outputId": "b6b7faa4-f214-4f33-83be-6f6d181d0fb1"
      },
      "outputs": [
        {
          "output_type": "stream",
          "name": "stdout",
          "text": [
            "radious of the sphere:5\n",
            "voume of the sphere is: 41.341702240399755\n"
          ]
        }
      ],
      "source": [
        "from math import pi \n",
        "r=float(input(\"radious of the sphere:\"))\n",
        "volume=4/3*pi**3\n",
        "print(\"voume of the sphere is:\",volume)"
      ]
    }
  ]
}