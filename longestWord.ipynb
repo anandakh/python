{
  "nbformat": 4,
  "nbformat_minor": 0,
  "metadata": {
    "colab": {
      "provenance": [],
      "authorship_tag": "ABX9TyOhYxXTLk39mzEdgVy6t70V",
      "include_colab_link": true
    },
    "kernelspec": {
      "name": "python3",
      "display_name": "Python 3"
    },
    "language_info": {
      "name": "python"
    }
  },
  "cells": [
    {
      "cell_type": "markdown",
      "metadata": {
        "id": "view-in-github",
        "colab_type": "text"
      },
      "source": [
        "<a href=\"https://colab.research.google.com/github/anandakh/python/blob/main/longestWord.ipynb\" target=\"_parent\"><img src=\"https://colab.research.google.com/assets/colab-badge.svg\" alt=\"Open In Colab\"/></a>"
      ]
    },
    {
      "cell_type": "code",
      "execution_count": 1,
      "metadata": {
        "colab": {
          "base_uri": "https://localhost:8080/"
        },
        "id": "2fKxWWb3VnZR",
        "outputId": "2d68ef9f-592a-4ee2-f0e2-ee7dcd64823f"
      },
      "outputs": [
        {
          "output_type": "stream",
          "name": "stdout",
          "text": [
            "Exercises\n"
          ]
        }
      ],
      "source": [
        "def find_longest_word(words_list):\n",
        "  word_len=[]\n",
        "  for n in words_list:\n",
        "     word_len.append((len(n),n))\n",
        "  word_len.sort()\n",
        "  return word_len[-1][1]\n",
        "\n",
        "print(find_longest_word([\"PHP\",\"Exercises\",\"Backend\"]))"
      ]
    }
  ]
}