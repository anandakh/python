{
  "nbformat": 4,
  "nbformat_minor": 0,
  "metadata": {
    "colab": {
      "provenance": [],
      "authorship_tag": "ABX9TyMpLys31Gp5IcwjICY2YkeH",
      "include_colab_link": true
    },
    "kernelspec": {
      "name": "python3",
      "display_name": "Python 3"
    },
    "language_info": {
      "name": "python"
    }
  },
  "cells": [
    {
      "cell_type": "markdown",
      "metadata": {
        "id": "view-in-github",
        "colab_type": "text"
      },
      "source": [
        "<a href=\"https://colab.research.google.com/github/anandakh/python/blob/main/lyear.ipynb\" target=\"_parent\"><img src=\"https://colab.research.google.com/assets/colab-badge.svg\" alt=\"Open In Colab\"/></a>"
      ]
    },
    {
      "cell_type": "code",
      "execution_count": 1,
      "metadata": {
        "colab": {
          "base_uri": "https://localhost:8080/"
        },
        "id": "VWSop8p12DBG",
        "outputId": "f61162e2-c1e4-441b-e560-53684d837dd9"
      },
      "outputs": [
        {
          "output_type": "stream",
          "name": "stdout",
          "text": [
            "Enter end year:2029\n",
            "List of leap years in the range is: [2020, 2024, 2028]\n"
          ]
        }
      ],
      "source": [
        "start=int(2020)\n",
        "list1=[]\n",
        "end=int(input(\"Enter end year:\"))\n",
        "while start < end:\n",
        "    if start % 4==0:\n",
        "        if start % 100== 0:\n",
        "            if start % 400== 0:\n",
        "                list1.append(start)\n",
        "        else:\n",
        "            list1.append(start)\n",
        "    start+=1\n",
        "print(\"List of leap years in the range is:\",list1)"
      ]
    }
  ]
}