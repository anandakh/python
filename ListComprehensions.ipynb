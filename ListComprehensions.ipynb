{
  "nbformat": 4,
  "nbformat_minor": 0,
  "metadata": {
    "colab": {
      "provenance": [],
      "authorship_tag": "ABX9TyNetkTiYQAQXCwvwShSi32H",
      "include_colab_link": true
    },
    "kernelspec": {
      "name": "python3",
      "display_name": "Python 3"
    },
    "language_info": {
      "name": "python"
    }
  },
  "cells": [
    {
      "cell_type": "markdown",
      "metadata": {
        "id": "view-in-github",
        "colab_type": "text"
      },
      "source": [
        "<a href=\"https://colab.research.google.com/github/anandakh/python/blob/main/ListComprehensions.ipynb\" target=\"_parent\"><img src=\"https://colab.research.google.com/assets/colab-badge.svg\" alt=\"Open In Colab\"/></a>"
      ]
    },
    {
      "cell_type": "code",
      "execution_count": 1,
      "metadata": {
        "colab": {
          "base_uri": "https://localhost:8080/"
        },
        "id": "V6N1dEtH8krn",
        "outputId": "5336d31f-fc01-4f40-f844-2e1295c46f74"
      },
      "outputs": [
        {
          "output_type": "stream",
          "name": "stdout",
          "text": [
            "Positive number in the list:  45 93\n"
          ]
        }
      ],
      "source": [
        "#python program to print positive numbers  in a list\n",
        "\n",
        "#list of numbers\n",
        "list1=[-10, -21, -4, 45, -66, 93]\n",
        "\n",
        "# using list comprihension\n",
        "pos_nos = [num for num in list1 if num>=0]\n",
        "print(\"Positive number in the list: \", *pos_nos)\n"
      ]
    },
    {
      "cell_type": "code",
      "source": [
        "numbers = [1,2,3,4,5]\n",
        "squared_numbers=[number**2 for number in numbers]\n",
        "print(squared_numbers)"
      ],
      "metadata": {
        "colab": {
          "base_uri": "https://localhost:8080/"
        },
        "id": "ZfmiEEP--DCf",
        "outputId": "7b517f21-3394-4ad0-8436-85327309539d"
      },
      "execution_count": 4,
      "outputs": [
        {
          "output_type": "stream",
          "name": "stdout",
          "text": [
            "[1, 4, 9, 16, 25]\n"
          ]
        }
      ]
    },
    {
      "cell_type": "code",
      "source": [
        "#python3 code to demonstrate working of vowel indices in string\n",
        "#using list comprihension + enumerate()\n",
        "\n",
        "#initializing string \n",
        "test_str = \"geeksforgeeks\"\n",
        "\n",
        "#printing orginal string \n",
        "print(\"The orginal string is: \" +test_str )\n",
        "\n",
        "#vowel indices in string\n",
        "#using list comprehension +enumirate()\n",
        "res=[idx for idx, ele in enumerate(test_str) if ele in \"aeiou\"]\n",
        "\n",
        "#printing result\n",
        "print(\"The vowel indices are: \" +str(res))\n"
      ],
      "metadata": {
        "colab": {
          "base_uri": "https://localhost:8080/"
        },
        "id": "8GLdHIEd_StL",
        "outputId": "a9af0a99-4d71-47b0-ec4b-c6eaf3f807a9"
      },
      "execution_count": 5,
      "outputs": [
        {
          "output_type": "stream",
          "name": "stdout",
          "text": [
            "The orginal string is: geeksforgeeks\n",
            "The vowel indices are: [1, 2, 6, 9, 10]\n"
          ]
        }
      ]
    }
  ]
}