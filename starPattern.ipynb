{
  "nbformat": 4,
  "nbformat_minor": 0,
  "metadata": {
    "colab": {
      "provenance": [],
      "authorship_tag": "ABX9TyOQ6RcvnAg4zdjxHJkc7grX",
      "include_colab_link": true
    },
    "kernelspec": {
      "name": "python3",
      "display_name": "Python 3"
    },
    "language_info": {
      "name": "python"
    }
  },
  "cells": [
    {
      "cell_type": "markdown",
      "metadata": {
        "id": "view-in-github",
        "colab_type": "text"
      },
      "source": [
        "<a href=\"https://colab.research.google.com/github/anandakh/python/blob/main/starPattern.ipynb\" target=\"_parent\"><img src=\"https://colab.research.google.com/assets/colab-badge.svg\" alt=\"Open In Colab\"/></a>"
      ]
    },
    {
      "cell_type": "code",
      "execution_count": 2,
      "metadata": {
        "colab": {
          "base_uri": "https://localhost:8080/"
        },
        "id": "EVPj8oO1sfzo",
        "outputId": "a02683f2-38de-41d2-c956-ff3d7272543c"
      },
      "outputs": [
        {
          "output_type": "stream",
          "name": "stdout",
          "text": [
            "\n",
            "*\n",
            "**\n",
            "***\n",
            "****\n",
            "*****\n",
            "****\n",
            "***\n",
            "**\n",
            "*\n"
          ]
        }
      ],
      "source": [
        "n=5;\n",
        "for i in range(n):\n",
        "  for j in range(i):\n",
        "    print('*',end='')\n",
        "  print('')\n",
        "\n",
        "for i in range(n,0,-1):\n",
        "  for j in range(i):\n",
        "    print('*',end='')\n",
        "  print('')\n"
      ]
    }
  ]
}