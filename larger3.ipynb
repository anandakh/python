{
  "nbformat": 4,
  "nbformat_minor": 0,
  "metadata": {
    "colab": {
      "provenance": [],
      "authorship_tag": "ABX9TyN4DwxHq8BslOqtA31BsEPP",
      "include_colab_link": true
    },
    "kernelspec": {
      "name": "python3",
      "display_name": "Python 3"
    },
    "language_info": {
      "name": "python"
    }
  },
  "cells": [
    {
      "cell_type": "markdown",
      "metadata": {
        "id": "view-in-github",
        "colab_type": "text"
      },
      "source": [
        "<a href=\"https://colab.research.google.com/github/anandakh/python/blob/main/larger3.ipynb\" target=\"_parent\"><img src=\"https://colab.research.google.com/assets/colab-badge.svg\" alt=\"Open In Colab\"/></a>"
      ]
    },
    {
      "cell_type": "code",
      "execution_count": null,
      "metadata": {
        "colab": {
          "base_uri": "https://localhost:8080/"
        },
        "id": "yonm4WIFYxNR",
        "outputId": "8dccfabe-5723-4c91-aa5a-495ea464f60d"
      },
      "outputs": [
        {
          "output_type": "stream",
          "name": "stdout",
          "text": [
            "Enter three numbers: 12\n",
            "23\n",
            "25\n",
            "Largest number:  25\n"
          ]
        }
      ],
      "source": [
        "num1=int(input(\"Enter three numbers: \"))\n",
        "num2=int(input(\"\"))\n",
        "num3=int(input(\"\"))\n",
        "if num1>num2 and num1>num3:\n",
        "  print(\"Largest number:\",num1)\n",
        "  \n",
        "elif num2>num3:\n",
        "  print(\"Largest number: \",num2)\n",
        "else :\n",
        "  print(\"Largest number: \",num3)"
      ]
    }
  ]
}