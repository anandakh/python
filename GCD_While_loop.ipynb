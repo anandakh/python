{
  "nbformat": 4,
  "nbformat_minor": 0,
  "metadata": {
    "colab": {
      "provenance": [],
      "authorship_tag": "ABX9TyOODJD3SOI2DpvCtbl7eeUp",
      "include_colab_link": true
    },
    "kernelspec": {
      "name": "python3",
      "display_name": "Python 3"
    },
    "language_info": {
      "name": "python"
    }
  },
  "cells": [
    {
      "cell_type": "markdown",
      "metadata": {
        "id": "view-in-github",
        "colab_type": "text"
      },
      "source": [
        "<a href=\"https://colab.research.google.com/github/anandakh/python/blob/main/GCD_While_loop.ipynb\" target=\"_parent\"><img src=\"https://colab.research.google.com/assets/colab-badge.svg\" alt=\"Open In Colab\"/></a>"
      ]
    },
    {
      "cell_type": "code",
      "execution_count": 2,
      "metadata": {
        "colab": {
          "base_uri": "https://localhost:8080/"
        },
        "id": "wu_KNh5FLgbG",
        "outputId": "0b3ee627-5323-4ff2-c1f6-6816939c890b"
      },
      "outputs": [
        {
          "output_type": "stream",
          "name": "stdout",
          "text": [
            "Enter 1st number: 6\n",
            "Enter 2nd number: 12\n",
            "GCD is 6\n"
          ]
        }
      ],
      "source": [
        "num1 = int(input(\"Enter 1st number: \"))\n",
        "num2 = int(input(\"Enter 2nd number: \"))\n",
        "i = 1\n",
        "while(i <= num1 and i <= num2):\n",
        "    if(num1 % i == 0 and num2 % i == 0):\n",
        "      gcd = i\n",
        "    i = i + 1  \n",
        "print(\"GCD is\", gcd)"
      ]
    }
  ]
}