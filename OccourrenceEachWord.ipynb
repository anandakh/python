{
  "nbformat": 4,
  "nbformat_minor": 0,
  "metadata": {
    "colab": {
      "provenance": [],
      "authorship_tag": "ABX9TyP1AzVEOFfQPeSPStqRGCR+",
      "include_colab_link": true
    },
    "kernelspec": {
      "name": "python3",
      "display_name": "Python 3"
    },
    "language_info": {
      "name": "python"
    }
  },
  "cells": [
    {
      "cell_type": "markdown",
      "metadata": {
        "id": "view-in-github",
        "colab_type": "text"
      },
      "source": [
        "<a href=\"https://colab.research.google.com/github/anandakh/python/blob/main/OccourrenceEachWord.ipynb\" target=\"_parent\"><img src=\"https://colab.research.google.com/assets/colab-badge.svg\" alt=\"Open In Colab\"/></a>"
      ]
    },
    {
      "cell_type": "code",
      "execution_count": 1,
      "metadata": {
        "colab": {
          "base_uri": "https://localhost:8080/"
        },
        "id": "POXj7PFdI5Ku",
        "outputId": "bf5ca5ef-edf0-44ea-d9c5-270616720ecd"
      },
      "outputs": [
        {
          "output_type": "stream",
          "name": "stdout",
          "text": [
            "1\n"
          ]
        }
      ],
      "source": [
        "def countOccurences(str, word):\n",
        "  # split the string by spaces in a \n",
        "  a = str.split(\" \")\n",
        "\n",
        "  # search for pattern in a \n",
        "  count = 0\n",
        "  for i in range(0, len(a)):\n",
        "    # if match found increase count\n",
        "    if (word == a[i]):\n",
        "      count = count + 1\n",
        "\n",
        "  return count\n",
        "\n",
        "# Driver code \n",
        "str =\"GeeksforGeeks A computer science portal for geeks \"\n",
        "word =\"portal\"\n",
        "print(countOccurences(str, word))\n"
      ]
    }
  ]
}